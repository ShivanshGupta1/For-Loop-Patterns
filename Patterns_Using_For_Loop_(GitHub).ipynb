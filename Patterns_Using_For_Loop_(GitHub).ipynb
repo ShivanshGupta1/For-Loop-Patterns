{
  "nbformat": 4,
  "nbformat_minor": 0,
  "metadata": {
    "colab": {
      "name": "Patterns Using For Loop (GitHub).ipynb",
      "provenance": [],
      "authorship_tag": "ABX9TyPBjhrSRYgC8dQz1KsuSf3U",
      "include_colab_link": true
    },
    "kernelspec": {
      "name": "python3",
      "display_name": "Python 3"
    }
  },
  "cells": [
    {
      "cell_type": "markdown",
      "metadata": {
        "id": "view-in-github",
        "colab_type": "text"
      },
      "source": [
        "<a href=\"https://colab.research.google.com/github/ShivanshGupta1/For-Loop-Patterns/blob/main/Patterns_Using_For_Loop_(GitHub).ipynb\" target=\"_parent\"><img src=\"https://colab.research.google.com/assets/colab-badge.svg\" alt=\"Open In Colab\"/></a>"
      ]
    },
    {
      "cell_type": "code",
      "metadata": {
        "id": "Zd-RKMaj7GT0"
      },
      "source": [
        "for i in range(1,6,1):\n",
        "  print('#####')"
      ],
      "execution_count": null,
      "outputs": []
    },
    {
      "cell_type": "code",
      "metadata": {
        "id": "wx-R8jcE9F0x"
      },
      "source": [
        "for i in range(1,6,1):\n",
        "  print('*'*i)"
      ],
      "execution_count": null,
      "outputs": []
    },
    {
      "cell_type": "code",
      "metadata": {
        "id": "yKFIagd-9IBw"
      },
      "source": [
        "for i in range(100,0,-2):\n",
        "  print(i)"
      ],
      "execution_count": null,
      "outputs": []
    },
    {
      "cell_type": "code",
      "metadata": {
        "id": "kbdOlpgk9JSy"
      },
      "source": [
        "for i in range(4,0,-1):\n",
        "  print('*'*i)"
      ],
      "execution_count": null,
      "outputs": []
    },
    {
      "cell_type": "code",
      "metadata": {
        "id": "tjnbcqPq9Kg7"
      },
      "source": [
        "for i in range(10):\n",
        "  print(i)\n",
        "  if (i==5):\n",
        "    break"
      ],
      "execution_count": null,
      "outputs": []
    }
  ]
}